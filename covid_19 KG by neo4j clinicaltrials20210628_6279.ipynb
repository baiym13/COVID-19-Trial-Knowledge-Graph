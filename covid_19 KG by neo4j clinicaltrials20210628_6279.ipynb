{
 "cells": [
  {
   "cell_type": "code",
   "execution_count": 1,
   "metadata": {},
   "outputs": [],
   "source": [
    "from neo4j import GraphDatabase"
   ]
  },
  {
   "cell_type": "code",
   "execution_count": 2,
   "metadata": {},
   "outputs": [
    {
     "name": "stdout",
     "output_type": "stream",
     "text": [
      "01covidclinicaltrials6279 basic data load done\n"
     ]
    }
   ],
   "source": [
    "class Neo4jConnection:\n",
    "\n",
    "    def __init__(self, uri, user, password):\n",
    "        self.driver = GraphDatabase.driver(uri, auth=(user, password))\n",
    "\n",
    "    def run_query(self, query):\n",
    "        with self.driver.session() as session:\n",
    "            session.run(query)\n",
    "\n",
    "    def close(self):\n",
    "        self.driver.close()\n",
    "\n",
    "if __name__ == \"__main__\":\n",
    "\n",
    "    greeter = Neo4jConnection(\"bolt://localhost:7687\", \"neo4j\", \"Bai130028\")\n",
    "    query = '''\n",
    "        MATCH (n)\n",
    "        DETACH DELETE n\n",
    "        '''\n",
    "    greeter.run_query(query)\n",
    "    query = '''\n",
    "            LOAD CSV WITH HEADERS FROM 'file:///01covidclinicaltrials6279.csv' AS row\n",
    "            MERGE (:Covidclinicaltrials {id:row.nctid, title:row.title, study_designs:row.Study_Designs, other_IDs:row.Other_IDs,Locations:row.Locations,url:row.URL});\n",
    "            '''\n",
    "    greeter.run_query(query)\n",
    "    print(\"01covidclinicaltrials6279 basic data load done\")"
   ]
  },
  {
   "cell_type": "code",
   "execution_count": 3,
   "metadata": {},
   "outputs": [
    {
     "name": "stdout",
     "output_type": "stream",
     "text": [
      "02conditions6279 data load done\n",
      "02nct_conditions6279 data load done\n"
     ]
    }
   ],
   "source": [
    "    query = '''\n",
    "            LOAD CSV WITH HEADERS FROM 'file:///02conditions6279.csv' AS row\n",
    "            MERGE (:Conditions {conditions:row.conditions,standard_condition:row.MTI_condition, DUI:row.DUI, id:row.condition_id,Usagi_conceptId:row.conceptId,Usagi_conceptName:row.conceptName,Usagi_domainId:row.domainId});\n",
    "            '''\n",
    "    greeter.run_query(query)\n",
    "    print(\"02conditions6279 data load done\")\n",
    "    \n",
    "    query = '''\n",
    "            LOAD CSV WITH HEADERS FROM 'file:///02nct_conditions6279.csv' AS row\n",
    "            MATCH (p1:Covidclinicaltrials {id:row.nctid}), (p2:Conditions{id:row.condition_id})\n",
    "            MERGE (p1)-[:has_condition]->(p2);\n",
    "            '''\n",
    "    greeter.run_query(query)\n",
    "    print(\"02nct_conditions6279 data load done\")"
   ]
  },
  {
   "cell_type": "code",
   "execution_count": 4,
   "metadata": {},
   "outputs": [
    {
     "name": "stdout",
     "output_type": "stream",
     "text": [
      "03comparison data load done\n",
      "03nct_comparison data load done\n",
      "03intervention data load done\n",
      "03nct_intervention data load done\n"
     ]
    }
   ],
   "source": [
    "    query = '''\n",
    "            LOAD CSV WITH HEADERS FROM 'file:///03comparison.csv' AS row\n",
    "            MERGE (:Comparison {nctid:row.nctid,CUI:row.CUI,standard_comparisom:row.standard_name,comparison_type:row.measure_type,comparisom_id:row.measure_id,id:row.standard_measuer_id,Usagi_conceptId:row.conceptId,Usagi_conceptName:row.conceptName,Usagi_domainId:row.domainId});\n",
    "            '''\n",
    "    greeter.run_query(query)\n",
    "    print(\"03comparison data load done\")\n",
    "    \n",
    "    query = '''\n",
    "            LOAD CSV WITH HEADERS FROM 'file:///03nct_comparison.csv' AS row\n",
    "            MATCH (p1:Covidclinicaltrials {id:row.nctid}), (p2:Comparison {id:row.standard_measuer_id})\n",
    "            MERGE (p1)-[:has_comparison]->(p2);\n",
    "            '''\n",
    "    greeter.run_query(query)\n",
    "    print(\"03nct_comparison data load done\")\n",
    "    \n",
    "    \n",
    "    \n",
    "    \n",
    "    query = '''\n",
    "            LOAD CSV WITH HEADERS FROM 'file:///03intervention.csv' AS row\n",
    "            MERGE (:Intervention {nctid:row.nctid,CUI:row.CUI,standard_intervention:row.standard_name,intervention_type:row.measure_type,intervention_id:row.measure_id,id:row.standard_measuer_id,Usagi_conceptId:row.conceptId,Usagi_conceptName:row.conceptName,Usagi_domainId:row.domainId});\n",
    "            '''\n",
    "    greeter.run_query(query)\n",
    "    print(\"03intervention data load done\")\n",
    "    \n",
    "    query = '''\n",
    "            LOAD CSV WITH HEADERS FROM 'file:///03nct_intervention.csv' AS row\n",
    "            MATCH (p1:Covidclinicaltrials {id:row.nctid}), (p2:Intervention {id:row.standard_measuer_id})\n",
    "            MERGE (p1)-[:has_intervention]->(p2);\n",
    "            '''\n",
    "    greeter.run_query(query)\n",
    "    print(\"03nct_intervention data load done\")"
   ]
  },
  {
   "cell_type": "code",
   "execution_count": 5,
   "metadata": {},
   "outputs": [
    {
     "name": "stdout",
     "output_type": "stream",
     "text": [
      "04outcomes_6279 data load done\n",
      "04outcomes_6279 data load done\n"
     ]
    }
   ],
   "source": [
    "    query = '''\n",
    "            LOAD CSV WITH HEADERS FROM 'file:///04outcomes_6279.csv' AS row\n",
    "            MERGE (:Outcomes {nctid:row.nctid,outcome:row.outcome,time_frame:row.time_frame,outcome_description:row.outcome_description,outcome_type:row.outcome_type, id:row.outcome_id});\n",
    "            '''\n",
    "    greeter.run_query(query)\n",
    "    print(\"04outcomes_6279 data load done\")\n",
    "    \n",
    "    query = '''\n",
    "            LOAD CSV WITH HEADERS FROM 'file:///04nct_outcomes_6279.csv' AS row\n",
    "            MATCH (p1:Covidclinicaltrials {id:row.nctid}), (p2:Outcomes{id:row.outcome_id})\n",
    "            MERGE (p1)-[:has_outcome]->(p2);\n",
    "            '''\n",
    "    greeter.run_query(query)\n",
    "    print(\"04outcomes_6279 data load done\")"
   ]
  },
  {
   "cell_type": "code",
   "execution_count": 6,
   "metadata": {},
   "outputs": [
    {
     "name": "stdout",
     "output_type": "stream",
     "text": [
      "05covidfunding data load done\n",
      "05nct_funded data load done\n"
     ]
    }
   ],
   "source": [
    "    query = '''\n",
    "            LOAD CSV WITH HEADERS FROM 'file:///05funding6279.csv' AS row\n",
    "            MERGE (:Funding {funding:row.fundedby, id:row.funding_id});\n",
    "            '''\n",
    "    greeter.run_query(query)\n",
    "    print(\"05covidfunding data load done\")\n",
    "    \n",
    "    query = '''\n",
    "            LOAD CSV WITH HEADERS FROM 'file:///05nct_funding6279.csv' AS row\n",
    "            MATCH (p1:Covidclinicaltrials {id:row.nctid}), (p2:Funding{id:row.funding_id})\n",
    "            MERGE (p1)-[:Funded_by]->(p2);\n",
    "            '''\n",
    "    greeter.run_query(query)\n",
    "    print(\"05nct_funded data load done\")"
   ]
  },
  {
   "cell_type": "code",
   "execution_count": 7,
   "metadata": {},
   "outputs": [
    {
     "name": "stdout",
     "output_type": "stream",
     "text": [
      "06covidenrollment data load done\n",
      "06nct_covidenrollment data load done\n"
     ]
    }
   ],
   "source": [
    "    query = '''\n",
    "            LOAD CSV WITH HEADERS FROM 'file:///06covidenrollment6279.csv' AS row\n",
    "            MERGE (:Enrollment {Enrollment:row.enrollmentnumber, id:row.enrollment_id});\n",
    "            '''\n",
    "    greeter.run_query(query)\n",
    "    print(\"06covidenrollment data load done\")\n",
    "    \n",
    "    query = '''\n",
    "            LOAD CSV WITH HEADERS FROM 'file:///06nct_covidenrollment6279.csv' AS row\n",
    "            MATCH (p1:Covidclinicaltrials {id:row.nctid}), (p2:Enrollment {id:row.enrollment_id})\n",
    "            MERGE (p1)-[:Enrollment]->(p2);\n",
    "            '''\n",
    "    greeter.run_query(query)\n",
    "    print(\"06nct_covidenrollment data load done\")"
   ]
  },
  {
   "cell_type": "code",
   "execution_count": 8,
   "metadata": {},
   "outputs": [
    {
     "name": "stdout",
     "output_type": "stream",
     "text": [
      "07covidgender data load done\n",
      "07nct_covidgender data load done\n"
     ]
    }
   ],
   "source": [
    "    query = '''\n",
    "            LOAD CSV WITH HEADERS FROM 'file:///07covidgender6279.csv' AS row\n",
    "            MERGE (:Gender {gender:row.gender, id:row.gender_id});\n",
    "            '''\n",
    "    greeter.run_query(query)\n",
    "    print(\"07covidgender data load done\")\n",
    "    \n",
    "    query = '''\n",
    "            LOAD CSV WITH HEADERS FROM 'file:///07nct_covidgender6279.csv' AS row\n",
    "            MATCH (p1:Covidclinicaltrials {id:row.nctid}), (p2:Gender {id:row.gender_id})\n",
    "            MERGE (p1)-[:Gender]->(p2);\n",
    "            '''\n",
    "    greeter.run_query(query)\n",
    "    print(\"07nct_covidgender data load done\")"
   ]
  },
  {
   "cell_type": "code",
   "execution_count": 9,
   "metadata": {},
   "outputs": [
    {
     "name": "stdout",
     "output_type": "stream",
     "text": [
      "08covidage data load done\n",
      "08nct_covidage data load done\n"
     ]
    }
   ],
   "source": [
    "    query = '''\n",
    "            LOAD CSV WITH HEADERS FROM 'file:///08covidage6279.csv' AS row\n",
    "            MERGE (:Age {age:row.age, id:row.age_id});\n",
    "            '''\n",
    "    greeter.run_query(query)\n",
    "    print(\"08covidage data load done\")\n",
    "    \n",
    "    query = '''\n",
    "            LOAD CSV WITH HEADERS FROM 'file:///08nct_covidage6279.csv' AS row\n",
    "            MATCH (p1:Covidclinicaltrials {id:row.nctid}), (p2:Age {id:row.age_id})\n",
    "            MERGE (p1)-[:Age]->(p2);\n",
    "            '''\n",
    "    greeter.run_query(query)\n",
    "    print(\"08nct_covidage data load done\")"
   ]
  },
  {
   "cell_type": "code",
   "execution_count": 10,
   "metadata": {},
   "outputs": [],
   "source": [
    "#enrollment节点关系有问题"
   ]
  },
  {
   "cell_type": "code",
   "execution_count": 11,
   "metadata": {},
   "outputs": [
    {
     "name": "stdout",
     "output_type": "stream",
     "text": [
      "09covidfunding data load done\n",
      "09nct_studytype data load done\n"
     ]
    }
   ],
   "source": [
    "    query = '''\n",
    "            LOAD CSV WITH HEADERS FROM 'file:///09studytype6279.csv' AS row\n",
    "            MERGE (:Studytype {studytype:row.studytype, id:row.studytype_id});\n",
    "            '''\n",
    "    greeter.run_query(query)\n",
    "    print(\"09covidfunding data load done\")\n",
    "    \n",
    "    query = '''\n",
    "            LOAD CSV WITH HEADERS FROM 'file:///09nct_studytype6279.csv' AS row\n",
    "            MATCH (p1:Covidclinicaltrials {id:row.nctid}), (p2:Studytype {id:row.studytype_id})\n",
    "            MERGE (p1)-[:Study_type]->(p2);\n",
    "            '''\n",
    "    greeter.run_query(query)\n",
    "    print(\"09nct_studytype data load done\")"
   ]
  },
  {
   "cell_type": "code",
   "execution_count": null,
   "metadata": {},
   "outputs": [],
   "source": []
  }
 ],
 "metadata": {
  "kernelspec": {
   "display_name": "Python 3",
   "language": "python",
   "name": "python3"
  },
  "language_info": {
   "codemirror_mode": {
    "name": "ipython",
    "version": 3
   },
   "file_extension": ".py",
   "mimetype": "text/x-python",
   "name": "python",
   "nbconvert_exporter": "python",
   "pygments_lexer": "ipython3",
   "version": "3.8.8"
  }
 },
 "nbformat": 4,
 "nbformat_minor": 2
}
